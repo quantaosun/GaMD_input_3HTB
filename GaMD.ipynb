{
  "nbformat": 4,
  "nbformat_minor": 0,
  "metadata": {
    "colab": {
      "private_outputs": true,
      "provenance": [],
      "authorship_tag": "ABX9TyNHekPbx10xttW0K/Xbvdij",
      "include_colab_link": true
    },
    "kernelspec": {
      "name": "python3",
      "display_name": "Python 3"
    },
    "language_info": {
      "name": "python"
    },
    "accelerator": "GPU",
    "gpuClass": "standard"
  },
  "cells": [
    {
      "cell_type": "markdown",
      "metadata": {
        "id": "view-in-github",
        "colab_type": "text"
      },
      "source": [
        "<a href=\"https://colab.research.google.com/github/quantaosun/GaMD_input_3HTB/blob/main/GaMD.ipynb\" target=\"_parent\"><img src=\"https://colab.research.google.com/assets/colab-badge.svg\" alt=\"Open In Colab\"/></a>"
      ]
    },
    {
      "cell_type": "markdown",
      "metadata": {
        "id": "97iCFl061Wjt"
      },
      "source": [
        "# The default README file which is supposed to be cat into a .csh file, apparently is written in a csh format. So, let's install the csh shell environment."
      ]
    },
    {
      "cell_type": "code",
      "metadata": {
        "id": "x8zkJcPbnJ-9"
      },
      "source": [
        "!apt-get install csh"
      ],
      "execution_count": null,
      "outputs": []
    },
    {
      "cell_type": "markdown",
      "source": [
        "# Get the NAMD download link and paste below. https://www.ks.uiuc.edu/Research/namd/alpha/3.0alpha/#downloads\n",
        "Right click and select \"copy link address\"\n",
        "\n"
      ],
      "metadata": {
        "id": "FR61M505EDtJ"
      }
    },
    {
      "cell_type": "code",
      "metadata": {
        "id": "Sxhw8bqQ6XGq"
      },
      "source": [
        "! wget https://www.ks.uiuc.edu/Resea13_Linux-x86******_64-multicore-CUDA-SingleNode.tar.gz"
      ],
      "execution_count": null,
      "outputs": []
    },
    {
      "cell_type": "code",
      "metadata": {
        "id": "znoXSb4c7iiV"
      },
      "source": [
        "!tar -xvf /content/NAMD_3.0alpha13_Linux-x86_64-multicore-CUDA-SingleNode.tar.gz"
      ],
      "execution_count": null,
      "outputs": []
    },
    {
      "cell_type": "markdown",
      "metadata": {
        "id": "UTYgvb3a8agi"
      },
      "source": [
        "# Upload charmm gui input for GaMD"
      ]
    },
    {
      "cell_type": "code",
      "metadata": {
        "id": "q_L6VsAIEg4B"
      },
      "source": [
        "!git clone https://github.com/quantaosun/GaMD_input_3HTB.git"
      ],
      "execution_count": null,
      "outputs": []
    },
    {
      "cell_type": "code",
      "source": [
        "!tar -xvf /content/GaMD_input_3HTB/charmm-gui_GaMD.tgz"
      ],
      "metadata": {
        "id": "ELgU9gSAGEBp"
      },
      "execution_count": null,
      "outputs": []
    },
    {
      "cell_type": "code",
      "metadata": {
        "id": "VEoqdXZT8Kwo"
      },
      "source": [
        "%cd /content/charmm-gui-6838781093/namd/charmm-gui-6838781093/namd"
      ],
      "execution_count": null,
      "outputs": []
    },
    {
      "cell_type": "markdown",
      "metadata": {
        "id": "KoQlaigvAEFa"
      },
      "source": [
        "# Modify namd2 path in README, substitute namd2 to /content/NAMD_Git-******_Linux-x86_64-multicore-CUDA/namd3."
      ]
    },
    {
      "cell_type": "markdown",
      "source": [
        "## Start simulation"
      ],
      "metadata": {
        "id": "t4Y6D8fUDwJl"
      }
    },
    {
      "cell_type": "code",
      "metadata": {
        "id": "YYwjtSj8Hih1"
      },
      "source": [
        "!csh README"
      ],
      "execution_count": null,
      "outputs": []
    }
  ]
}